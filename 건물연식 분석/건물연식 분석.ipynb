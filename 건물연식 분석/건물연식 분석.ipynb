{
 "cells": [
  {
   "cell_type": "code",
   "execution_count": 10,
   "id": "09297f7b",
   "metadata": {},
   "outputs": [],
   "source": [
    "from scipy.stats import shapiro # 정규성 검정\n",
    "from scipy.stats import ttest_ind, ttest_rel, bartlett\n",
    "import pandas as pd\n",
    "import seaborn as sns\n",
    "import matplotlib.pyplot as plt\n",
    "import csv"
   ]
  },
  {
   "cell_type": "code",
   "execution_count": 9,
   "id": "e650a57a",
   "metadata": {},
   "outputs": [
    {
     "ename": "ParserError",
     "evalue": "Error tokenizing data. C error: Expected 1 fields in line 16, saw 21\n",
     "output_type": "error",
     "traceback": [
      "\u001b[1;31m---------------------------------------------------------------------------\u001b[0m",
      "\u001b[1;31mParserError\u001b[0m                               Traceback (most recent call last)",
      "Cell \u001b[1;32mIn[9], line 1\u001b[0m\n\u001b[1;32m----> 1\u001b[0m transaction_df \u001b[38;5;241m=\u001b[39m pd\u001b[38;5;241m.\u001b[39mread_csv(\u001b[38;5;124m\"\u001b[39m\u001b[38;5;124mC:/Users/ITSC/Desktop/MiniPrj2/Git/Data/상업업무용(매매)_실거래가_20240317102917.csv\u001b[39m\u001b[38;5;124m\"\u001b[39m, skiprows \u001b[38;5;241m=\u001b[39m \u001b[38;5;241m12\u001b[39m)\n",
      "File \u001b[1;32m~\\anaconda3\\Lib\\site-packages\\pandas\\io\\parsers\\readers.py:912\u001b[0m, in \u001b[0;36mread_csv\u001b[1;34m(filepath_or_buffer, sep, delimiter, header, names, index_col, usecols, dtype, engine, converters, true_values, false_values, skipinitialspace, skiprows, skipfooter, nrows, na_values, keep_default_na, na_filter, verbose, skip_blank_lines, parse_dates, infer_datetime_format, keep_date_col, date_parser, date_format, dayfirst, cache_dates, iterator, chunksize, compression, thousands, decimal, lineterminator, quotechar, quoting, doublequote, escapechar, comment, encoding, encoding_errors, dialect, on_bad_lines, delim_whitespace, low_memory, memory_map, float_precision, storage_options, dtype_backend)\u001b[0m\n\u001b[0;32m    899\u001b[0m kwds_defaults \u001b[38;5;241m=\u001b[39m _refine_defaults_read(\n\u001b[0;32m    900\u001b[0m     dialect,\n\u001b[0;32m    901\u001b[0m     delimiter,\n\u001b[1;32m   (...)\u001b[0m\n\u001b[0;32m    908\u001b[0m     dtype_backend\u001b[38;5;241m=\u001b[39mdtype_backend,\n\u001b[0;32m    909\u001b[0m )\n\u001b[0;32m    910\u001b[0m kwds\u001b[38;5;241m.\u001b[39mupdate(kwds_defaults)\n\u001b[1;32m--> 912\u001b[0m \u001b[38;5;28;01mreturn\u001b[39;00m _read(filepath_or_buffer, kwds)\n",
      "File \u001b[1;32m~\\anaconda3\\Lib\\site-packages\\pandas\\io\\parsers\\readers.py:583\u001b[0m, in \u001b[0;36m_read\u001b[1;34m(filepath_or_buffer, kwds)\u001b[0m\n\u001b[0;32m    580\u001b[0m     \u001b[38;5;28;01mreturn\u001b[39;00m parser\n\u001b[0;32m    582\u001b[0m \u001b[38;5;28;01mwith\u001b[39;00m parser:\n\u001b[1;32m--> 583\u001b[0m     \u001b[38;5;28;01mreturn\u001b[39;00m parser\u001b[38;5;241m.\u001b[39mread(nrows)\n",
      "File \u001b[1;32m~\\anaconda3\\Lib\\site-packages\\pandas\\io\\parsers\\readers.py:1704\u001b[0m, in \u001b[0;36mTextFileReader.read\u001b[1;34m(self, nrows)\u001b[0m\n\u001b[0;32m   1697\u001b[0m nrows \u001b[38;5;241m=\u001b[39m validate_integer(\u001b[38;5;124m\"\u001b[39m\u001b[38;5;124mnrows\u001b[39m\u001b[38;5;124m\"\u001b[39m, nrows)\n\u001b[0;32m   1698\u001b[0m \u001b[38;5;28;01mtry\u001b[39;00m:\n\u001b[0;32m   1699\u001b[0m     \u001b[38;5;66;03m# error: \"ParserBase\" has no attribute \"read\"\u001b[39;00m\n\u001b[0;32m   1700\u001b[0m     (\n\u001b[0;32m   1701\u001b[0m         index,\n\u001b[0;32m   1702\u001b[0m         columns,\n\u001b[0;32m   1703\u001b[0m         col_dict,\n\u001b[1;32m-> 1704\u001b[0m     ) \u001b[38;5;241m=\u001b[39m \u001b[38;5;28mself\u001b[39m\u001b[38;5;241m.\u001b[39m_engine\u001b[38;5;241m.\u001b[39mread(  \u001b[38;5;66;03m# type: ignore[attr-defined]\u001b[39;00m\n\u001b[0;32m   1705\u001b[0m         nrows\n\u001b[0;32m   1706\u001b[0m     )\n\u001b[0;32m   1707\u001b[0m \u001b[38;5;28;01mexcept\u001b[39;00m \u001b[38;5;167;01mException\u001b[39;00m:\n\u001b[0;32m   1708\u001b[0m     \u001b[38;5;28mself\u001b[39m\u001b[38;5;241m.\u001b[39mclose()\n",
      "File \u001b[1;32m~\\anaconda3\\Lib\\site-packages\\pandas\\io\\parsers\\c_parser_wrapper.py:234\u001b[0m, in \u001b[0;36mCParserWrapper.read\u001b[1;34m(self, nrows)\u001b[0m\n\u001b[0;32m    232\u001b[0m \u001b[38;5;28;01mtry\u001b[39;00m:\n\u001b[0;32m    233\u001b[0m     \u001b[38;5;28;01mif\u001b[39;00m \u001b[38;5;28mself\u001b[39m\u001b[38;5;241m.\u001b[39mlow_memory:\n\u001b[1;32m--> 234\u001b[0m         chunks \u001b[38;5;241m=\u001b[39m \u001b[38;5;28mself\u001b[39m\u001b[38;5;241m.\u001b[39m_reader\u001b[38;5;241m.\u001b[39mread_low_memory(nrows)\n\u001b[0;32m    235\u001b[0m         \u001b[38;5;66;03m# destructive to chunks\u001b[39;00m\n\u001b[0;32m    236\u001b[0m         data \u001b[38;5;241m=\u001b[39m _concatenate_chunks(chunks)\n",
      "File \u001b[1;32m~\\anaconda3\\Lib\\site-packages\\pandas\\_libs\\parsers.pyx:814\u001b[0m, in \u001b[0;36mpandas._libs.parsers.TextReader.read_low_memory\u001b[1;34m()\u001b[0m\n",
      "File \u001b[1;32m~\\anaconda3\\Lib\\site-packages\\pandas\\_libs\\parsers.pyx:875\u001b[0m, in \u001b[0;36mpandas._libs.parsers.TextReader._read_rows\u001b[1;34m()\u001b[0m\n",
      "File \u001b[1;32m~\\anaconda3\\Lib\\site-packages\\pandas\\_libs\\parsers.pyx:850\u001b[0m, in \u001b[0;36mpandas._libs.parsers.TextReader._tokenize_rows\u001b[1;34m()\u001b[0m\n",
      "File \u001b[1;32m~\\anaconda3\\Lib\\site-packages\\pandas\\_libs\\parsers.pyx:861\u001b[0m, in \u001b[0;36mpandas._libs.parsers.TextReader._check_tokenize_status\u001b[1;34m()\u001b[0m\n",
      "File \u001b[1;32m~\\anaconda3\\Lib\\site-packages\\pandas\\_libs\\parsers.pyx:2029\u001b[0m, in \u001b[0;36mpandas._libs.parsers.raise_parser_error\u001b[1;34m()\u001b[0m\n",
      "\u001b[1;31mParserError\u001b[0m: Error tokenizing data. C error: Expected 1 fields in line 16, saw 21\n"
     ]
    }
   ],
   "source": [
    "transaction_df = pd.read_csv(\"C:/Users/ITSC/Desktop/MiniPrj2/Git/Data/상업업무용(매매)_실거래가_20240317102917.csv\", skiprows = 12)"
   ]
  },
  {
   "cell_type": "code",
   "execution_count": 6,
   "id": "f05dd3bc",
   "metadata": {},
   "outputs": [
    {
     "data": {
      "text/html": [
       "<div>\n",
       "<style scoped>\n",
       "    .dataframe tbody tr th:only-of-type {\n",
       "        vertical-align: middle;\n",
       "    }\n",
       "\n",
       "    .dataframe tbody tr th {\n",
       "        vertical-align: top;\n",
       "    }\n",
       "\n",
       "    .dataframe thead th {\n",
       "        text-align: right;\n",
       "    }\n",
       "</style>\n",
       "<table border=\"1\" class=\"dataframe\">\n",
       "  <thead>\n",
       "    <tr style=\"text-align: right;\">\n",
       "      <th></th>\n",
       "      <th>8</th>\n",
       "      <th>서울특별시 성동구 옥수동</th>\n",
       "      <th>집합</th>\n",
       "      <th>1***</th>\n",
       "      <th>한림말길</th>\n",
       "      <th>제3종일반주거</th>\n",
       "      <th>기타</th>\n",
       "      <th>25m미만</th>\n",
       "      <th>37.20</th>\n",
       "      <th></th>\n",
       "      <th>...</th>\n",
       "      <th>2</th>\n",
       "      <th>-</th>\n",
       "      <th>-.1</th>\n",
       "      <th>202309</th>\n",
       "      <th>19</th>\n",
       "      <th>Unnamed: 16</th>\n",
       "      <th>1998</th>\n",
       "      <th>-.2</th>\n",
       "      <th>중개거래</th>\n",
       "      <th>서울 성동구</th>\n",
       "    </tr>\n",
       "  </thead>\n",
       "  <tbody>\n",
       "    <tr>\n",
       "      <th>0</th>\n",
       "      <td>9</td>\n",
       "      <td>서울특별시 성동구 옥수동</td>\n",
       "      <td>집합</td>\n",
       "      <td>4***</td>\n",
       "      <td>독서당로40길</td>\n",
       "      <td>제3종일반주거</td>\n",
       "      <td>제1종근린생활</td>\n",
       "      <td>25m미만</td>\n",
       "      <td>6.61</td>\n",
       "      <td></td>\n",
       "      <td>...</td>\n",
       "      <td>NaN</td>\n",
       "      <td>-</td>\n",
       "      <td>-</td>\n",
       "      <td>202310</td>\n",
       "      <td>5</td>\n",
       "      <td>NaN</td>\n",
       "      <td>1990.0</td>\n",
       "      <td>-</td>\n",
       "      <td>중개거래</td>\n",
       "      <td>서울 강남구</td>\n",
       "    </tr>\n",
       "    <tr>\n",
       "      <th>1</th>\n",
       "      <td>10</td>\n",
       "      <td>서울특별시 성동구 옥수동</td>\n",
       "      <td>집합</td>\n",
       "      <td>2***</td>\n",
       "      <td>독서당로</td>\n",
       "      <td>제2종일반주거</td>\n",
       "      <td>제2종근린생활</td>\n",
       "      <td>25m이상</td>\n",
       "      <td>46.49</td>\n",
       "      <td></td>\n",
       "      <td>...</td>\n",
       "      <td>6.0</td>\n",
       "      <td>-</td>\n",
       "      <td>-</td>\n",
       "      <td>202310</td>\n",
       "      <td>31</td>\n",
       "      <td>지분</td>\n",
       "      <td>2020.0</td>\n",
       "      <td>20231124</td>\n",
       "      <td>직거래</td>\n",
       "      <td>-</td>\n",
       "    </tr>\n",
       "    <tr>\n",
       "      <th>2</th>\n",
       "      <td>11</td>\n",
       "      <td>서울특별시 성동구 옥수동</td>\n",
       "      <td>집합</td>\n",
       "      <td>2***</td>\n",
       "      <td>독서당로</td>\n",
       "      <td>제2종일반주거</td>\n",
       "      <td>제2종근린생활</td>\n",
       "      <td>25m이상</td>\n",
       "      <td>119.28</td>\n",
       "      <td></td>\n",
       "      <td>...</td>\n",
       "      <td>NaN</td>\n",
       "      <td>-</td>\n",
       "      <td>-</td>\n",
       "      <td>202310</td>\n",
       "      <td>31</td>\n",
       "      <td>지분</td>\n",
       "      <td>2020.0</td>\n",
       "      <td>20231124</td>\n",
       "      <td>직거래</td>\n",
       "      <td>-</td>\n",
       "    </tr>\n",
       "    <tr>\n",
       "      <th>3</th>\n",
       "      <td>12</td>\n",
       "      <td>서울특별시 성동구 옥수동</td>\n",
       "      <td>집합</td>\n",
       "      <td>1***</td>\n",
       "      <td>한림말길</td>\n",
       "      <td>제3종일반주거</td>\n",
       "      <td>제2종근린생활</td>\n",
       "      <td>25m미만</td>\n",
       "      <td>9.41</td>\n",
       "      <td></td>\n",
       "      <td>...</td>\n",
       "      <td>NaN</td>\n",
       "      <td>-</td>\n",
       "      <td>-</td>\n",
       "      <td>202306</td>\n",
       "      <td>2</td>\n",
       "      <td>NaN</td>\n",
       "      <td>1998.0</td>\n",
       "      <td>-</td>\n",
       "      <td>직거래</td>\n",
       "      <td>-</td>\n",
       "    </tr>\n",
       "    <tr>\n",
       "      <th>4</th>\n",
       "      <td>13</td>\n",
       "      <td>서울특별시 성동구 옥수동</td>\n",
       "      <td>집합</td>\n",
       "      <td>1***</td>\n",
       "      <td>한림말길</td>\n",
       "      <td>제3종일반주거</td>\n",
       "      <td>제2종근린생활</td>\n",
       "      <td>25m미만</td>\n",
       "      <td>9.39</td>\n",
       "      <td></td>\n",
       "      <td>...</td>\n",
       "      <td>4.0</td>\n",
       "      <td>-</td>\n",
       "      <td>-</td>\n",
       "      <td>202305</td>\n",
       "      <td>12</td>\n",
       "      <td>NaN</td>\n",
       "      <td>1998.0</td>\n",
       "      <td>-</td>\n",
       "      <td>직거래</td>\n",
       "      <td>-</td>\n",
       "    </tr>\n",
       "  </tbody>\n",
       "</table>\n",
       "<p>5 rows × 21 columns</p>\n",
       "</div>"
      ],
      "text/plain": [
       "    8  서울특별시 성동구 옥수동  집합  1***     한림말길  제3종일반주거       기타  25m미만   37.20     \\\n",
       "0   9  서울특별시 성동구 옥수동  집합  4***  독서당로40길  제3종일반주거  제1종근린생활  25m미만    6.61      \n",
       "1  10  서울특별시 성동구 옥수동  집합  2***     독서당로  제2종일반주거  제2종근린생활  25m이상   46.49      \n",
       "2  11  서울특별시 성동구 옥수동  집합  2***     독서당로  제2종일반주거  제2종근린생활  25m이상  119.28      \n",
       "3  12  서울특별시 성동구 옥수동  집합  1***     한림말길  제3종일반주거  제2종근린생활  25m미만    9.41      \n",
       "4  13  서울특별시 성동구 옥수동  집합  1***     한림말길  제3종일반주거  제2종근린생활  25m미만    9.39      \n",
       "\n",
       "   ...    2  - -.1  202309  19  Unnamed: 16    1998       -.2  중개거래  서울 성동구  \n",
       "0  ...  NaN  -   -  202310   5          NaN  1990.0         -  중개거래  서울 강남구  \n",
       "1  ...  6.0  -   -  202310  31           지분  2020.0  20231124   직거래       -  \n",
       "2  ...  NaN  -   -  202310  31           지분  2020.0  20231124   직거래       -  \n",
       "3  ...  NaN  -   -  202306   2          NaN  1998.0         -   직거래       -  \n",
       "4  ...  4.0  -   -  202305  12          NaN  1998.0         -   직거래       -  \n",
       "\n",
       "[5 rows x 21 columns]"
      ]
     },
     "execution_count": 6,
     "metadata": {},
     "output_type": "execute_result"
    }
   ],
   "source": [
    "transaction_df.head()"
   ]
  },
  {
   "cell_type": "code",
   "execution_count": 11,
   "id": "38f114d8",
   "metadata": {},
   "outputs": [],
   "source": [
    "file_path = \"C:/Users/ITSC/Desktop/MiniPrj2/Git/Data/상업업무용(매매)_실거래가_20240317102917.csv\""
   ]
  },
  {
   "cell_type": "code",
   "execution_count": 14,
   "id": "98d58d63",
   "metadata": {},
   "outputs": [],
   "source": [
    "f = open(file_path, encoding = \"utf8\")\n",
    "reader = csv.reader(f)"
   ]
  },
  {
   "cell_type": "code",
   "execution_count": 15,
   "id": "78a762f0",
   "metadata": {},
   "outputs": [],
   "source": [
    "csv_list = []\n",
    "for i in reader:\n",
    "    csv_list.append(i)\n",
    "    \n",
    "f.close()"
   ]
  },
  {
   "cell_type": "code",
   "execution_count": 37,
   "id": "8444af73",
   "metadata": {},
   "outputs": [],
   "source": [
    "transaction_df = pd.DataFrame(csv_list[15:])"
   ]
  },
  {
   "cell_type": "code",
   "execution_count": 41,
   "id": "e7e78b14",
   "metadata": {},
   "outputs": [
    {
     "data": {
      "text/plain": [
       "RangeIndex(start=0, stop=21, step=1)"
      ]
     },
     "execution_count": 41,
     "metadata": {},
     "output_type": "execute_result"
    }
   ],
   "source": [
    "transaction_df.columns"
   ]
  },
  {
   "cell_type": "code",
   "execution_count": 57,
   "id": "550d9615",
   "metadata": {},
   "outputs": [],
   "source": [
    "new_columns_dict = {i : transaction_df.iloc[0, i] for i in range(0, 21)}"
   ]
  },
  {
   "cell_type": "code",
   "execution_count": 55,
   "id": "8f7f5826",
   "metadata": {},
   "outputs": [
    {
     "data": {
      "text/plain": [
       "'시군구'"
      ]
     },
     "execution_count": 55,
     "metadata": {},
     "output_type": "execute_result"
    }
   ],
   "source": [
    "transaction_df.iloc[0, 1]"
   ]
  },
  {
   "cell_type": "code",
   "execution_count": 58,
   "id": "abb3cfb0",
   "metadata": {},
   "outputs": [
    {
     "data": {
      "text/plain": [
       "{0: 'NO',\n",
       " 1: '시군구',\n",
       " 2: '유형',\n",
       " 3: '지번',\n",
       " 4: '도로명',\n",
       " 5: '용도지역',\n",
       " 6: '건축물주용도',\n",
       " 7: '도로조건',\n",
       " 8: '전용/연면적(㎡)',\n",
       " 9: '대지면적(㎡)',\n",
       " 10: '거래금액(만원)',\n",
       " 11: '층',\n",
       " 12: '매수',\n",
       " 13: '매도',\n",
       " 14: '계약년월',\n",
       " 15: '계약일',\n",
       " 16: '지분구분',\n",
       " 17: '건축년도',\n",
       " 18: '해제사유발생일',\n",
       " 19: '거래유형',\n",
       " 20: '중개사소재지'}"
      ]
     },
     "execution_count": 58,
     "metadata": {},
     "output_type": "execute_result"
    }
   ],
   "source": [
    "new_columns_dict"
   ]
  },
  {
   "cell_type": "code",
   "execution_count": 62,
   "id": "29d52717",
   "metadata": {},
   "outputs": [],
   "source": [
    "transaction_df = transaction_df.rename(columns = new_columns_dict).iloc[1:, :]"
   ]
  },
  {
   "cell_type": "code",
   "execution_count": 65,
   "id": "613508b6",
   "metadata": {},
   "outputs": [],
   "source": [
    "transaction_df = transaction_df.iloc[:, 1:]"
   ]
  },
  {
   "cell_type": "code",
   "execution_count": 66,
   "id": "d6f811f8",
   "metadata": {},
   "outputs": [
    {
     "data": {
      "text/html": [
       "<div>\n",
       "<style scoped>\n",
       "    .dataframe tbody tr th:only-of-type {\n",
       "        vertical-align: middle;\n",
       "    }\n",
       "\n",
       "    .dataframe tbody tr th {\n",
       "        vertical-align: top;\n",
       "    }\n",
       "\n",
       "    .dataframe thead th {\n",
       "        text-align: right;\n",
       "    }\n",
       "</style>\n",
       "<table border=\"1\" class=\"dataframe\">\n",
       "  <thead>\n",
       "    <tr style=\"text-align: right;\">\n",
       "      <th></th>\n",
       "      <th>시군구</th>\n",
       "      <th>유형</th>\n",
       "      <th>지번</th>\n",
       "      <th>도로명</th>\n",
       "      <th>용도지역</th>\n",
       "      <th>건축물주용도</th>\n",
       "      <th>도로조건</th>\n",
       "      <th>전용/연면적(㎡)</th>\n",
       "      <th>대지면적(㎡)</th>\n",
       "      <th>거래금액(만원)</th>\n",
       "      <th>층</th>\n",
       "      <th>매수</th>\n",
       "      <th>매도</th>\n",
       "      <th>계약년월</th>\n",
       "      <th>계약일</th>\n",
       "      <th>지분구분</th>\n",
       "      <th>건축년도</th>\n",
       "      <th>해제사유발생일</th>\n",
       "      <th>거래유형</th>\n",
       "      <th>중개사소재지</th>\n",
       "    </tr>\n",
       "  </thead>\n",
       "  <tbody>\n",
       "    <tr>\n",
       "      <th>1</th>\n",
       "      <td>서울특별시 성동구 옥수동</td>\n",
       "      <td>일반</td>\n",
       "      <td>4***</td>\n",
       "      <td>독서당로40길</td>\n",
       "      <td>제3종일반주거</td>\n",
       "      <td>제1종근린생활</td>\n",
       "      <td>-</td>\n",
       "      <td>6.16</td>\n",
       "      <td>11.4600</td>\n",
       "      <td>24,000</td>\n",
       "      <td></td>\n",
       "      <td>개인</td>\n",
       "      <td>법인</td>\n",
       "      <td>202401</td>\n",
       "      <td>06</td>\n",
       "      <td></td>\n",
       "      <td>1990</td>\n",
       "      <td>-</td>\n",
       "      <td>중개거래</td>\n",
       "      <td>서울 강남구</td>\n",
       "    </tr>\n",
       "    <tr>\n",
       "      <th>2</th>\n",
       "      <td>서울특별시 성동구 옥수동</td>\n",
       "      <td>일반</td>\n",
       "      <td>2***</td>\n",
       "      <td>독서당로</td>\n",
       "      <td>제2종일반주거</td>\n",
       "      <td>제1종근린생활</td>\n",
       "      <td>-</td>\n",
       "      <td>2119.97</td>\n",
       "      <td>638.0000</td>\n",
       "      <td>2,292,445</td>\n",
       "      <td></td>\n",
       "      <td>법인</td>\n",
       "      <td>법인</td>\n",
       "      <td>202401</td>\n",
       "      <td>11</td>\n",
       "      <td></td>\n",
       "      <td>2020</td>\n",
       "      <td>-</td>\n",
       "      <td>중개거래</td>\n",
       "      <td>서울 강남구</td>\n",
       "    </tr>\n",
       "    <tr>\n",
       "      <th>3</th>\n",
       "      <td>서울특별시 성동구 옥수동</td>\n",
       "      <td>일반</td>\n",
       "      <td>2***</td>\n",
       "      <td>한림말3길</td>\n",
       "      <td>제2종일반주거</td>\n",
       "      <td>제2종근린생활</td>\n",
       "      <td>12m미만</td>\n",
       "      <td>462.65</td>\n",
       "      <td>193.0000</td>\n",
       "      <td>550,000</td>\n",
       "      <td></td>\n",
       "      <td>-</td>\n",
       "      <td>-</td>\n",
       "      <td>202308</td>\n",
       "      <td>10</td>\n",
       "      <td></td>\n",
       "      <td>2020</td>\n",
       "      <td>-</td>\n",
       "      <td>중개거래</td>\n",
       "      <td>서울 강남구</td>\n",
       "    </tr>\n",
       "    <tr>\n",
       "      <th>4</th>\n",
       "      <td>서울특별시 성동구 옥수동</td>\n",
       "      <td>집합</td>\n",
       "      <td>1***</td>\n",
       "      <td>한림말길</td>\n",
       "      <td>제3종일반주거</td>\n",
       "      <td>제2종근린생활</td>\n",
       "      <td>25m미만</td>\n",
       "      <td>9.52</td>\n",
       "      <td></td>\n",
       "      <td>22,000</td>\n",
       "      <td></td>\n",
       "      <td>-</td>\n",
       "      <td>-</td>\n",
       "      <td>202305</td>\n",
       "      <td>30</td>\n",
       "      <td></td>\n",
       "      <td>1998</td>\n",
       "      <td>-</td>\n",
       "      <td>직거래</td>\n",
       "      <td>-</td>\n",
       "    </tr>\n",
       "    <tr>\n",
       "      <th>5</th>\n",
       "      <td>서울특별시 성동구 옥수동</td>\n",
       "      <td>집합</td>\n",
       "      <td>1***</td>\n",
       "      <td>한림말길</td>\n",
       "      <td>제3종일반주거</td>\n",
       "      <td>제2종근린생활</td>\n",
       "      <td>25m미만</td>\n",
       "      <td>9.52</td>\n",
       "      <td></td>\n",
       "      <td>24,000</td>\n",
       "      <td></td>\n",
       "      <td>-</td>\n",
       "      <td>-</td>\n",
       "      <td>202307</td>\n",
       "      <td>13</td>\n",
       "      <td></td>\n",
       "      <td>1998</td>\n",
       "      <td>-</td>\n",
       "      <td>직거래</td>\n",
       "      <td>-</td>\n",
       "    </tr>\n",
       "  </tbody>\n",
       "</table>\n",
       "</div>"
      ],
      "text/plain": [
       "             시군구  유형    지번      도로명     용도지역   건축물주용도   도로조건 전용/연면적(㎡)  \\\n",
       "1  서울특별시 성동구 옥수동  일반  4***  독서당로40길  제3종일반주거  제1종근린생활      -      6.16   \n",
       "2  서울특별시 성동구 옥수동  일반  2***     독서당로  제2종일반주거  제1종근린생활      -   2119.97   \n",
       "3  서울특별시 성동구 옥수동  일반  2***    한림말3길  제2종일반주거  제2종근린생활  12m미만    462.65   \n",
       "4  서울특별시 성동구 옥수동  집합  1***     한림말길  제3종일반주거  제2종근린생활  25m미만      9.52   \n",
       "5  서울특별시 성동구 옥수동  집합  1***     한림말길  제3종일반주거  제2종근린생활  25m미만      9.52   \n",
       "\n",
       "    대지면적(㎡)        거래금액(만원) 층  매수  매도    계약년월 계약일 지분구분  건축년도 해제사유발생일  거래유형  \\\n",
       "1   11.4600          24,000    개인  법인  202401  06       1990       -  중개거래   \n",
       "2  638.0000       2,292,445    법인  법인  202401  11       2020       -  중개거래   \n",
       "3  193.0000         550,000     -   -  202308  10       2020       -  중개거래   \n",
       "4                    22,000     -   -  202305  30       1998       -   직거래   \n",
       "5                    24,000     -   -  202307  13       1998       -   직거래   \n",
       "\n",
       "   중개사소재지  \n",
       "1  서울 강남구  \n",
       "2  서울 강남구  \n",
       "3  서울 강남구  \n",
       "4       -  \n",
       "5       -  "
      ]
     },
     "execution_count": 66,
     "metadata": {},
     "output_type": "execute_result"
    }
   ],
   "source": [
    "transaction_df.head().iloc[:, ]"
   ]
  },
  {
   "cell_type": "code",
   "execution_count": null,
   "id": "3bef90ef",
   "metadata": {},
   "outputs": [],
   "source": []
  },
  {
   "cell_type": "code",
   "execution_count": null,
   "id": "5a92bc84",
   "metadata": {},
   "outputs": [],
   "source": []
  },
  {
   "cell_type": "code",
   "execution_count": null,
   "id": "d388a0d7",
   "metadata": {},
   "outputs": [],
   "source": []
  },
  {
   "cell_type": "code",
   "execution_count": null,
   "id": "b291000c",
   "metadata": {},
   "outputs": [],
   "source": []
  },
  {
   "cell_type": "code",
   "execution_count": null,
   "id": "68d1abaa",
   "metadata": {},
   "outputs": [],
   "source": []
  },
  {
   "cell_type": "code",
   "execution_count": null,
   "id": "747158a8",
   "metadata": {},
   "outputs": [],
   "source": []
  },
  {
   "cell_type": "code",
   "execution_count": null,
   "id": "660e37ab",
   "metadata": {},
   "outputs": [],
   "source": []
  },
  {
   "cell_type": "code",
   "execution_count": null,
   "id": "34edfa19",
   "metadata": {},
   "outputs": [],
   "source": []
  },
  {
   "cell_type": "code",
   "execution_count": null,
   "id": "16cbf7c0",
   "metadata": {},
   "outputs": [],
   "source": []
  },
  {
   "cell_type": "code",
   "execution_count": null,
   "id": "0f86e54a",
   "metadata": {},
   "outputs": [],
   "source": []
  },
  {
   "cell_type": "code",
   "execution_count": null,
   "id": "fc7fa72a",
   "metadata": {},
   "outputs": [],
   "source": []
  },
  {
   "cell_type": "code",
   "execution_count": null,
   "id": "45ac5a05",
   "metadata": {},
   "outputs": [],
   "source": []
  },
  {
   "cell_type": "code",
   "execution_count": null,
   "id": "6af3fd70",
   "metadata": {},
   "outputs": [],
   "source": []
  },
  {
   "cell_type": "code",
   "execution_count": null,
   "id": "e809817d",
   "metadata": {},
   "outputs": [],
   "source": []
  },
  {
   "cell_type": "code",
   "execution_count": null,
   "id": "2c62791e",
   "metadata": {},
   "outputs": [],
   "source": []
  },
  {
   "cell_type": "code",
   "execution_count": null,
   "id": "5409cab7",
   "metadata": {},
   "outputs": [],
   "source": []
  },
  {
   "cell_type": "code",
   "execution_count": null,
   "id": "ecb1fd81",
   "metadata": {},
   "outputs": [],
   "source": []
  },
  {
   "cell_type": "code",
   "execution_count": null,
   "id": "248a9efe",
   "metadata": {},
   "outputs": [],
   "source": []
  },
  {
   "cell_type": "code",
   "execution_count": null,
   "id": "15e62571",
   "metadata": {},
   "outputs": [],
   "source": []
  },
  {
   "cell_type": "code",
   "execution_count": null,
   "id": "958faa4d",
   "metadata": {},
   "outputs": [],
   "source": []
  },
  {
   "cell_type": "code",
   "execution_count": null,
   "id": "ec7395ac",
   "metadata": {},
   "outputs": [],
   "source": []
  },
  {
   "cell_type": "code",
   "execution_count": null,
   "id": "d168736c",
   "metadata": {},
   "outputs": [],
   "source": []
  },
  {
   "cell_type": "code",
   "execution_count": null,
   "id": "6811d402",
   "metadata": {},
   "outputs": [],
   "source": []
  },
  {
   "cell_type": "code",
   "execution_count": null,
   "id": "87c72284",
   "metadata": {},
   "outputs": [],
   "source": []
  },
  {
   "cell_type": "code",
   "execution_count": null,
   "id": "8cd77743",
   "metadata": {},
   "outputs": [],
   "source": []
  }
 ],
 "metadata": {
  "kernelspec": {
   "display_name": "Python 3 (ipykernel)",
   "language": "python",
   "name": "python3"
  },
  "language_info": {
   "codemirror_mode": {
    "name": "ipython",
    "version": 3
   },
   "file_extension": ".py",
   "mimetype": "text/x-python",
   "name": "python",
   "nbconvert_exporter": "python",
   "pygments_lexer": "ipython3",
   "version": "3.11.5"
  }
 },
 "nbformat": 4,
 "nbformat_minor": 5
}
